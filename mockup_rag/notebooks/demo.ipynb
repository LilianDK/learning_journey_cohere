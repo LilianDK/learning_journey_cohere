{
 "cells": [
  {
   "cell_type": "code",
   "execution_count": 1,
   "metadata": {},
   "outputs": [],
   "source": [
    "from mockup_rag.utils import find_similar_docs, search_fuzzy, search_match_phrase, format_search_output\n",
    "from mockup_rag.config import client\n",
    "import pandas as pd \n",
    "from opensearchpy import OpenSearch # type: ignore\n",
    "from opensearch_dsl import Search"
   ]
  },
  {
   "cell_type": "code",
   "execution_count": 2,
   "metadata": {},
   "outputs": [],
   "source": [
    "INDEX_NAME = \"test2-cosine\" \n",
    "query = \"Wer ist asylberechtigt?\""
   ]
  },
  {
   "cell_type": "code",
   "execution_count": 3,
   "metadata": {},
   "outputs": [
    {
     "data": {
      "text/plain": [
       "['Wer', 'ist', 'asylberechtigt?']"
      ]
     },
     "execution_count": 3,
     "metadata": {},
     "output_type": "execute_result"
    }
   ],
   "source": [
    "query_keywords = [q for q in query.split(\" \") if len(q) > 2]\n",
    "query_keywords"
   ]
  },
  {
   "attachments": {},
   "cell_type": "markdown",
   "metadata": {},
   "source": [
    "## Retrieve lexical search results on OpenSearch index"
   ]
  },
  {
   "attachments": {},
   "cell_type": "markdown",
   "metadata": {},
   "source": [
    "### Run exact match phrase search"
   ]
  },
  {
   "cell_type": "code",
   "execution_count": 4,
   "metadata": {},
   "outputs": [
    {
     "name": "stdout",
     "output_type": "stream",
     "text": [
      "Searching for `Wer` in the field `text`\n",
      "couldnt format output because of 'title'\n",
      "Searching for `ist` in the field `text`\n",
      "couldnt format output because of 'title'\n",
      "Searching for `asylberechtigt?` in the field `text`\n",
      "couldnt format output because of 'title'\n"
     ]
    }
   ],
   "source": [
    "lexical_df = pd.DataFrame()\n",
    "for q in query_keywords:\n",
    "    out_shard = search_match_phrase(field='text', query=q, index_name=INDEX_NAME)\n",
    "    df_ = format_search_output(out_shard)\n",
    "    lexical_df = pd.concat([lexical_df, df_], axis=0)\n",
    "          "
   ]
  },
  {
   "cell_type": "code",
   "execution_count": null,
   "metadata": {},
   "outputs": [],
   "source": [
    "s = Search(using=client, index=INDEX_NAME) \\\n",
    "    .query(\"match\", text=\"Asyl\")\n",
    "\n",
    "    #.filter(\"term\", year=\"2011\") \\\n",
    "\n",
    "response = s.execute()\n",
    "print('\\nSearch results:')\n",
    "for hit in response:\n",
    "    print(hit.meta.score, hit.paragraph, hit.text)\n",
    "\n",
    "print(response[1])"
   ]
  },
  {
   "cell_type": "code",
   "execution_count": null,
   "metadata": {},
   "outputs": [],
   "source": [
    "lexical_df.head(5)"
   ]
  },
  {
   "attachments": {},
   "cell_type": "markdown",
   "metadata": {},
   "source": [
    "### Run fuzzy word search \n",
    "By specifying the level of `fuzziness` we can tolerate for things like mispellings, typos etc. `fuzziness` is an integer>=0 where when `fuzziness=0` we are saying we don't want any fuzziness and want an exact match. When `fuzziness=1`, we are saying we can tolerate results that are one character off from our search query. "
   ]
  },
  {
   "cell_type": "code",
   "execution_count": null,
   "metadata": {},
   "outputs": [],
   "source": [
    "fuzzy_df = pd.DataFrame()\n",
    "for q in query_keywords:\n",
    "    out_shard = search_fuzzy(field='text', query=q, fuzziness=1, index_name=INDEX_NAME)\n",
    "    df_ = format_search_output(out_shard)\n",
    "    fuzzy_df = pd.concat([fuzzy_df, df_], axis=0)\n",
    "          "
   ]
  },
  {
   "cell_type": "code",
   "execution_count": null,
   "metadata": {},
   "outputs": [],
   "source": [
    "fuzzy_df.head(5)"
   ]
  },
  {
   "attachments": {},
   "cell_type": "markdown",
   "metadata": {},
   "source": [
    "### Retrieve semantic search output using OpenSearch knn-vector search and co:here embeddings"
   ]
  },
  {
   "cell_type": "code",
   "execution_count": null,
   "metadata": {},
   "outputs": [],
   "source": [
    "semantic_out = find_similar_docs(query=query, k=2, num_results=5, index_name=INDEX_NAME) \n",
    "semantic_df = format_search_output(semantic_out)"
   ]
  },
  {
   "cell_type": "code",
   "execution_count": null,
   "metadata": {},
   "outputs": [],
   "source": [
    "semantic_df.head()"
   ]
  },
  {
   "attachments": {},
   "cell_type": "markdown",
   "metadata": {},
   "source": [
    "## Visualize outputs\n",
    "Let's take the top abstract result from the `lexical_df`, `fuzzy_df` and the top abstract result from the `semantic_df` and see if the results look interesting. They query keywords in all abstract results are highlighted to show that while the semantic results may not retrieve the most keywords, the results are semantically more meaningful than lexical/fuzzy based approaches. "
   ]
  },
  {
   "cell_type": "code",
   "execution_count": null,
   "metadata": {},
   "outputs": [],
   "source": [
    "from utils import colorize\n",
    "\n",
    "def visualize(top_row, color): \n",
    "    print(f'''Top result for this searchmethod is arxiv_id={top_row['arxiv_id']} with score={top_row['score']}\\n''')\n",
    "    print(colorize(top_row.abstract, query_keywords, color=color))"
   ]
  },
  {
   "cell_type": "code",
   "execution_count": null,
   "metadata": {},
   "outputs": [],
   "source": [
    "visualize(lexical_df.iloc[0], color=\"cyan\")\n"
   ]
  },
  {
   "cell_type": "code",
   "execution_count": null,
   "metadata": {},
   "outputs": [],
   "source": [
    "visualize(fuzzy_df.iloc[0], color=\"blue\")"
   ]
  },
  {
   "cell_type": "code",
   "execution_count": null,
   "metadata": {},
   "outputs": [],
   "source": [
    "visualize(semantic_df.iloc[0], color=\"green\")"
   ]
  },
  {
   "cell_type": "code",
   "execution_count": null,
   "metadata": {},
   "outputs": [],
   "source": []
  },
  {
   "cell_type": "code",
   "execution_count": null,
   "metadata": {},
   "outputs": [],
   "source": []
  }
 ],
 "metadata": {
  "kernelspec": {
   "display_name": "base",
   "language": "python",
   "name": "python3"
  },
  "language_info": {
   "codemirror_mode": {
    "name": "ipython",
    "version": 3
   },
   "file_extension": ".py",
   "mimetype": "text/x-python",
   "name": "python",
   "nbconvert_exporter": "python",
   "pygments_lexer": "ipython3",
   "version": "3.11.9"
  }
 },
 "nbformat": 4,
 "nbformat_minor": 2
}
